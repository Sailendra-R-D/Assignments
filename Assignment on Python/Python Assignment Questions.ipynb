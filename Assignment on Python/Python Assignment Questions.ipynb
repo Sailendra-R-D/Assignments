{
 "cells": [
  {
   "cell_type": "markdown",
   "metadata": {},
   "source": [
    "# Python Assignment Questions"
   ]
  },
  {
   "cell_type": "markdown",
   "metadata": {},
   "source": [
    "## Questions on String"
   ]
  },
  {
   "cell_type": "code",
   "execution_count": 28,
   "metadata": {},
   "outputs": [
    {
     "name": "stdout",
     "output_type": "stream",
     "text": [
      " I am very keen in building up my career in Data Science, but not sure from where to start. If I search the web it throws me thousands of articles, few are relevant others make me confused, again I come around to the same page. Supervised has provided me a good platform to remove all such qualms which were wrangling in my mind\n"
     ]
    }
   ],
   "source": [
    "string = \" I am very keen in building up my career in Data Science, but not sure from where to start. If I search the web it throws me thousands of articles, few are relevant others make me confused, again I come around to the same page. Supervised has provided me a good platform to remove all such qualms which were wrangling in my mind\"\n",
    "\n",
    "print(string)"
   ]
  },
  {
   "cell_type": "markdown",
   "metadata": {},
   "source": [
    "## 1.Consider the above text as a string, figure out the average length of the string."
   ]
  },
  {
   "cell_type": "code",
   "execution_count": 147,
   "metadata": {},
   "outputs": [
    {
     "name": "stdout",
     "output_type": "stream",
     "text": [
      "average length : 4.21\n"
     ]
    }
   ],
   "source": [
    "words = string.split()\n",
    "\n",
    "count = len(words)\n",
    "\n",
    "total_length = sum([len(word) for word in words])\n",
    "\n",
    "print(\"average length : {}\".format(round(total_length/count,2)))"
   ]
  },
  {
   "cell_type": "markdown",
   "metadata": {},
   "source": [
    "## 2.Lower the text in the string."
   ]
  },
  {
   "cell_type": "code",
   "execution_count": 30,
   "metadata": {},
   "outputs": [
    {
     "name": "stdout",
     "output_type": "stream",
     "text": [
      " i am very keen in building up my career in data science, but not sure from where to start. if i search the web it throws me thousands of articles, few are relevant others make me confused, again i come around to the same page. supervised has provided me a good platform to remove all such qualms which were wrangling in my mind\n"
     ]
    }
   ],
   "source": [
    "print(string.lower())"
   ]
  },
  {
   "cell_type": "markdown",
   "metadata": {},
   "source": [
    "## 3.Try to get the clean text removing the punctuation from the string."
   ]
  },
  {
   "cell_type": "code",
   "execution_count": 155,
   "metadata": {},
   "outputs": [
    {
     "name": "stdout",
     "output_type": "stream",
     "text": [
      " I am very keen in building up my career in Data Science but not sure from where to start If I search the web it throws me thousands of articles few are relevant others make me confused again I come around to the same page Supervised has provided me a good platform to remove all such qualms which were wrangling in my mind\n"
     ]
    }
   ],
   "source": [
    "import string as lib_string\n",
    "print(re.sub('['+lib_string.punctuation+']', '', string))"
   ]
  },
  {
   "cell_type": "markdown",
   "metadata": {},
   "source": [
    "## 4.Extract word \"Data Science\" from the string."
   ]
  },
  {
   "cell_type": "code",
   "execution_count": 177,
   "metadata": {},
   "outputs": [
    {
     "name": "stdout",
     "output_type": "stream",
     "text": [
      "Data Science\n"
     ]
    }
   ],
   "source": [
    "import re\n",
    "\n",
    "extract = None\n",
    "m = re.search(\"(Data Science)\", string)\n",
    "if m:\n",
    "    extract = m.group(1)\n",
    "\n",
    "print(extract)"
   ]
  },
  {
   "cell_type": "markdown",
   "metadata": {},
   "source": [
    "## 5.Find the frequency of words used in the string."
   ]
  },
  {
   "cell_type": "code",
   "execution_count": 39,
   "metadata": {},
   "outputs": [
    {
     "name": "stdout",
     "output_type": "stream",
     "text": [
      "I occurs 3 time(s)\n",
      "am occurs 1 time(s)\n",
      "very occurs 1 time(s)\n",
      "keen occurs 1 time(s)\n",
      "in occurs 3 time(s)\n",
      "building occurs 1 time(s)\n",
      "up occurs 1 time(s)\n",
      "my occurs 2 time(s)\n",
      "career occurs 1 time(s)\n",
      "Data occurs 1 time(s)\n",
      "Science, occurs 1 time(s)\n",
      "but occurs 1 time(s)\n",
      "not occurs 1 time(s)\n",
      "sure occurs 1 time(s)\n",
      "from occurs 1 time(s)\n",
      "where occurs 1 time(s)\n",
      "to occurs 3 time(s)\n",
      "start. occurs 1 time(s)\n",
      "If occurs 1 time(s)\n",
      "search occurs 1 time(s)\n",
      "the occurs 2 time(s)\n",
      "web occurs 1 time(s)\n",
      "it occurs 1 time(s)\n",
      "throws occurs 1 time(s)\n",
      "me occurs 3 time(s)\n",
      "thousands occurs 1 time(s)\n",
      "of occurs 1 time(s)\n",
      "articles, occurs 1 time(s)\n",
      "few occurs 1 time(s)\n",
      "are occurs 1 time(s)\n",
      "relevant occurs 1 time(s)\n",
      "others occurs 1 time(s)\n",
      "make occurs 1 time(s)\n",
      "confused, occurs 1 time(s)\n",
      "again occurs 1 time(s)\n",
      "come occurs 1 time(s)\n",
      "around occurs 1 time(s)\n",
      "same occurs 1 time(s)\n",
      "page. occurs 1 time(s)\n",
      "Supervised occurs 1 time(s)\n",
      "has occurs 1 time(s)\n",
      "provided occurs 1 time(s)\n",
      "a occurs 1 time(s)\n",
      "good occurs 1 time(s)\n",
      "platform occurs 1 time(s)\n",
      "remove occurs 1 time(s)\n",
      "all occurs 1 time(s)\n",
      "such occurs 1 time(s)\n",
      "qualms occurs 1 time(s)\n",
      "which occurs 1 time(s)\n",
      "were occurs 1 time(s)\n",
      "wrangling occurs 1 time(s)\n",
      "mind occurs 1 time(s)\n"
     ]
    }
   ],
   "source": [
    "from collections import Counter\n",
    "\n",
    "for word,frequency in dict(Counter(string.split())).items():\n",
    "    print(\"{} occurs {} time(s)\".format(word,frequency))"
   ]
  },
  {
   "cell_type": "markdown",
   "metadata": {},
   "source": [
    "## 6.Fetch the duplicate pairs used in the string."
   ]
  },
  {
   "cell_type": "code",
   "execution_count": 40,
   "metadata": {},
   "outputs": [
    {
     "name": "stdout",
     "output_type": "stream",
     "text": [
      "I occurs 3 time(s)\n",
      "in occurs 3 time(s)\n",
      "my occurs 2 time(s)\n",
      "to occurs 3 time(s)\n",
      "the occurs 2 time(s)\n",
      "me occurs 3 time(s)\n"
     ]
    }
   ],
   "source": [
    "for word,frequency in dict(Counter(string.split())).items():\n",
    "    if frequency > 1:\n",
    "        print(\"{} occurs {} time(s)\".format(word,frequency))"
   ]
  },
  {
   "cell_type": "markdown",
   "metadata": {},
   "source": [
    "## 7.Can you change the word \"Supervised\" to \"Unsupervised\" in the string"
   ]
  },
  {
   "cell_type": "code",
   "execution_count": 41,
   "metadata": {},
   "outputs": [
    {
     "name": "stdout",
     "output_type": "stream",
     "text": [
      " I am very keen in building up my career in Data Science, but not sure from where to start. If I search the web it throws me thousands of articles, few are relevant others make me confused, again I come around to the same page. Unsupervised has provided me a good platform to remove all such qualms which were wrangling in my mind\n"
     ]
    }
   ],
   "source": [
    "print(string.replace(\"Supervised\",\"Unsupervised\"))"
   ]
  },
  {
   "cell_type": "markdown",
   "metadata": {},
   "source": [
    "## 8.Splitting of the string with a dot operator(.)"
   ]
  },
  {
   "cell_type": "code",
   "execution_count": 50,
   "metadata": {},
   "outputs": [
    {
     "name": "stdout",
     "output_type": "stream",
     "text": [
      "1. I am very keen in building up my career in Data Science, but not sure from where to start\n",
      "2. If I search the web it throws me thousands of articles, few are relevant others make me confused, again I come around to the same page\n",
      "3. Supervised has provided me a good platform to remove all such qualms which were wrangling in my mind\n"
     ]
    }
   ],
   "source": [
    "for index,line in enumerate(string.split(\".\")):\n",
    "    print(\"{}.{}\".format(index+1,line))"
   ]
  },
  {
   "cell_type": "markdown",
   "metadata": {},
   "source": [
    "## 9.Find the words from the string which ends with \"e\""
   ]
  },
  {
   "cell_type": "code",
   "execution_count": 183,
   "metadata": {},
   "outputs": [
    {
     "data": {
      "text/plain": [
       "['sure',\n",
       " 'where',\n",
       " 'the',\n",
       " 'me',\n",
       " 'are',\n",
       " 'make',\n",
       " 'me',\n",
       " 'come',\n",
       " 'the',\n",
       " 'same',\n",
       " 'me',\n",
       " 'remove',\n",
       " 'were']"
      ]
     },
     "execution_count": 183,
     "metadata": {},
     "output_type": "execute_result"
    }
   ],
   "source": [
    "[word for word in string.split() if word.endswith('e')]"
   ]
  },
  {
   "cell_type": "markdown",
   "metadata": {},
   "source": [
    "## 10.Figure out number of a's used in the string."
   ]
  },
  {
   "cell_type": "code",
   "execution_count": 187,
   "metadata": {},
   "outputs": [
    {
     "name": "stdout",
     "output_type": "stream",
     "text": [
      "22\n"
     ]
    }
   ],
   "source": [
    "print(len([chars for chars in string if chars == 'a']))"
   ]
  },
  {
   "cell_type": "markdown",
   "metadata": {},
   "source": [
    "# Questions on Dictionary"
   ]
  },
  {
   "cell_type": "markdown",
   "metadata": {},
   "source": [
    "## In the weekend , I purchased 250g of apple, 500g of sugar, 2.5 kg of rice, 2.5 litres of milk and finally 1 dozen of egg."
   ]
  },
  {
   "cell_type": "markdown",
   "metadata": {},
   "source": [
    "## 1.Can you help me frame the above purchase in the form of dictionary with commodities as keys to it."
   ]
  },
  {
   "cell_type": "code",
   "execution_count": 67,
   "metadata": {},
   "outputs": [
    {
     "name": "stdout",
     "output_type": "stream",
     "text": [
      "{'APPLE': 0.25, 'SUGAR': 0.5, 'RICE': 2.5, 'MILK': 2.5, 'EGG': 1}\n"
     ]
    }
   ],
   "source": [
    "items = dict()\n",
    "items.update({\"APPLE\":0.25,\"SUGAR\":0.5,\"RICE\":2.5,\"MILK\":2.5,\"EGG\":1})\n",
    "\n",
    "print(items)"
   ]
  },
  {
   "cell_type": "markdown",
   "metadata": {},
   "source": [
    "## 2.I forgot to mention another item, 1kg of atta packet. Can you also add it ?"
   ]
  },
  {
   "cell_type": "code",
   "execution_count": 71,
   "metadata": {},
   "outputs": [
    {
     "name": "stdout",
     "output_type": "stream",
     "text": [
      "{'APPLE': 0.25, 'SUGAR': 0.5, 'RICE': 1.0, 'MILK': 2.5, 'EGG': 1, 'ATTA': 1}\n"
     ]
    }
   ],
   "source": [
    "items.update({\"ATTA\":1})\n",
    "print(items)"
   ]
  },
  {
   "cell_type": "markdown",
   "metadata": {},
   "source": [
    "## 3.Instead of 2kg of rice, I bought only 1kg of rice. Can you change the corresponding value ?"
   ]
  },
  {
   "cell_type": "code",
   "execution_count": 73,
   "metadata": {},
   "outputs": [
    {
     "name": "stdout",
     "output_type": "stream",
     "text": [
      "{'APPLE': 0.25, 'SUGAR': 0.5, 'RICE': 1, 'MILK': 2.5, 'EGG': 1, 'ATTA': 1}\n"
     ]
    }
   ],
   "source": [
    "items.update({\"RICE\":1})\n",
    "print(items)"
   ]
  },
  {
   "cell_type": "markdown",
   "metadata": {},
   "source": [
    "## 4.Can you list out all these items using a loop"
   ]
  },
  {
   "cell_type": "code",
   "execution_count": 74,
   "metadata": {},
   "outputs": [
    {
     "name": "stdout",
     "output_type": "stream",
     "text": [
      "ITEM: APPLE, QTY: 0.25\n",
      "ITEM: SUGAR, QTY: 0.5\n",
      "ITEM: RICE, QTY: 1\n",
      "ITEM: MILK, QTY: 2.5\n",
      "ITEM: EGG, QTY: 1\n",
      "ITEM: ATTA, QTY: 1\n"
     ]
    }
   ],
   "source": [
    "for item,qty in items.items():\n",
    "    print(\"ITEM: {}, QTY: {}\".format(item,qty))"
   ]
  },
  {
   "cell_type": "markdown",
   "metadata": {},
   "source": [
    "## However, the cost of 1 kg apple is Rs.220, 1 kg of sugar is Rs.43, 1 Kg of rice is Rs. 45, 1 litre of milk is Rs.30 and 1 dozen of egg is Rs. 60."
   ]
  },
  {
   "cell_type": "markdown",
   "metadata": {},
   "source": [
    "## Create another dictionary for pricing.\n",
    "\n",
    "## Thereby, prepare a bill for me of the overall cost of the total commodities purchased by using two dictionaries !"
   ]
  },
  {
   "cell_type": "code",
   "execution_count": 65,
   "metadata": {},
   "outputs": [
    {
     "name": "stdout",
     "output_type": "stream",
     "text": [
      "{'APPLE': 220, 'SUGAR': 43, 'RICE': 45, 'MILK': 60, 'EGG': 60}\n"
     ]
    }
   ],
   "source": [
    "price = dict()\n",
    "price.update({\"APPLE\":220,\"SUGAR\":43,\"RICE\":45,\"MILK\":60,\"EGG\":60})\n",
    "\n",
    "print(price)"
   ]
  },
  {
   "cell_type": "code",
   "execution_count": 86,
   "metadata": {},
   "outputs": [
    {
     "name": "stdout",
     "output_type": "stream",
     "text": [
      "Your bill is 331.5\n"
     ]
    }
   ],
   "source": [
    "# calculating cost and generating bill for commodities\n",
    "# ATTA is FREE !!!!!!!!!!\n",
    "\n",
    "bill_amt = 0\n",
    "\n",
    "for item,qty in items.items():\n",
    "    bill_amt+= round(qty *price.get(item,0),2)\n",
    "\n",
    "print(\"Your bill is {}\".format(bill_amt))"
   ]
  },
  {
   "cell_type": "markdown",
   "metadata": {},
   "source": [
    "## Questions on List"
   ]
  },
  {
   "cell_type": "code",
   "execution_count": 90,
   "metadata": {},
   "outputs": [
    {
     "name": "stdout",
     "output_type": "stream",
     "text": [
      "['Amazon', 'Facebook', 'HiSilicon', 'Google', 'Apple', 'Microsoft', 'SenseTime']\n"
     ]
    }
   ],
   "source": [
    "# Listed are the top 10 Ai companies in the world\n",
    "\n",
    "AI_companies = ['Amazon','Facebook','HiSilicon','Google','Apple','Microsoft','SenseTime']\n",
    "print(AI_companies)"
   ]
  },
  {
   "cell_type": "markdown",
   "metadata": {},
   "source": [
    "## 1.Sort the list in ascending order"
   ]
  },
  {
   "cell_type": "code",
   "execution_count": 91,
   "metadata": {},
   "outputs": [
    {
     "name": "stdout",
     "output_type": "stream",
     "text": [
      "['Amazon', 'Apple', 'Facebook', 'Google', 'HiSilicon', 'Microsoft', 'SenseTime']\n"
     ]
    }
   ],
   "source": [
    "print(sorted(AI_companies))"
   ]
  },
  {
   "cell_type": "markdown",
   "metadata": {},
   "source": [
    "## 2.Add multiple companies at once 'Nvidia', 'OpenAI' , 'Qualcomm' and 'Reliance' to the list"
   ]
  },
  {
   "cell_type": "code",
   "execution_count": 93,
   "metadata": {},
   "outputs": [
    {
     "name": "stdout",
     "output_type": "stream",
     "text": [
      "['Amazon', 'Facebook', 'HiSilicon', 'Google', 'Apple', 'Microsoft', 'SenseTime', 'Nvidia', 'OpenAI', 'Reliance', 'Nvidia', 'OpenAI', 'Reliance']\n"
     ]
    }
   ],
   "source": [
    "AI_companies.extend(['Nvidia', 'OpenAI' , 'Qualcomm' and 'Reliance'])\n",
    "print(AI_companies)"
   ]
  },
  {
   "cell_type": "markdown",
   "metadata": {},
   "source": [
    "## 3.Lower the list using List comprehension"
   ]
  },
  {
   "cell_type": "code",
   "execution_count": 97,
   "metadata": {},
   "outputs": [
    {
     "data": {
      "text/plain": [
       "['amazon',\n",
       " 'facebook',\n",
       " 'hisilicon',\n",
       " 'google',\n",
       " 'apple',\n",
       " 'microsoft',\n",
       " 'sensetime',\n",
       " 'nvidia',\n",
       " 'openai',\n",
       " 'reliance',\n",
       " 'nvidia',\n",
       " 'openai',\n",
       " 'reliance']"
      ]
     },
     "execution_count": 97,
     "metadata": {},
     "output_type": "execute_result"
    }
   ],
   "source": [
    "[company.lower() for company in AI_companies]"
   ]
  },
  {
   "cell_type": "markdown",
   "metadata": {},
   "source": [
    "## 4.Elimiate 'Reliance' from the list"
   ]
  },
  {
   "cell_type": "code",
   "execution_count": 99,
   "metadata": {},
   "outputs": [
    {
     "name": "stdout",
     "output_type": "stream",
     "text": [
      "['Amazon', 'Facebook', 'HiSilicon', 'Google', 'Apple', 'Microsoft', 'SenseTime', 'Nvidia', 'OpenAI', 'Nvidia', 'OpenAI']\n"
     ]
    }
   ],
   "source": [
    "AI_companies.remove('Reliance')\n",
    "print(AI_companies)"
   ]
  },
  {
   "cell_type": "markdown",
   "metadata": {},
   "source": [
    "## 5.Extract 'Facebook', 'Google' and 'Microsoft' using a single command"
   ]
  },
  {
   "cell_type": "code",
   "execution_count": 102,
   "metadata": {},
   "outputs": [
    {
     "data": {
      "text/plain": [
       "['Facebook', 'Google', 'Microsoft']"
      ]
     },
     "execution_count": 102,
     "metadata": {},
     "output_type": "execute_result"
    }
   ],
   "source": [
    "[company for company in AI_companies if company in('Facebook', 'Google', 'Microsoft')]"
   ]
  },
  {
   "cell_type": "markdown",
   "metadata": {},
   "source": [
    "## Questions on Tuple"
   ]
  },
  {
   "cell_type": "markdown",
   "metadata": {},
   "source": [
    "## 1.Consider the above standard price problem statement and place the prices in the form of the tuple."
   ]
  },
  {
   "cell_type": "code",
   "execution_count": 134,
   "metadata": {},
   "outputs": [
    {
     "name": "stdout",
     "output_type": "stream",
     "text": [
      "(('APPLE', 220), ('SUGAR', 43), ('RICE', 45), ('MILK', 60), ('EGG', 60))\n"
     ]
    }
   ],
   "source": [
    "price_tup = tuple([(item,price) for item,price in price.items()])\n",
    "print(price_tup)"
   ]
  },
  {
   "cell_type": "markdown",
   "metadata": {},
   "source": [
    "## 2.Find out the min and max price among them."
   ]
  },
  {
   "cell_type": "code",
   "execution_count": 135,
   "metadata": {},
   "outputs": [
    {
     "name": "stdout",
     "output_type": "stream",
     "text": [
      "max : 220, min : 43\n"
     ]
    }
   ],
   "source": [
    "prices = [price for item,price in price_tup]\n",
    "print(\"max : {}, min : {}\".format(max(prices),min(prices)))"
   ]
  },
  {
   "cell_type": "markdown",
   "metadata": {},
   "source": [
    "## 3.Also, convert the above \"AI_companies\" list to a tuple."
   ]
  },
  {
   "cell_type": "code",
   "execution_count": 136,
   "metadata": {},
   "outputs": [
    {
     "name": "stdout",
     "output_type": "stream",
     "text": [
      "('Amazon', 'Facebook', 'HiSilicon', 'Google', 'Apple', 'Microsoft', 'SenseTime', 'Nvidia', 'OpenAI', 'Nvidia', 'OpenAI')\n"
     ]
    }
   ],
   "source": [
    "AI_companies_tup = tuple(AI_companies)\n",
    "print(AI_companies_tup)"
   ]
  },
  {
   "cell_type": "markdown",
   "metadata": {},
   "source": [
    "## 4.Combine two above tuples to a single tuple."
   ]
  },
  {
   "cell_type": "code",
   "execution_count": 138,
   "metadata": {},
   "outputs": [
    {
     "name": "stdout",
     "output_type": "stream",
     "text": [
      "(('APPLE', 220), ('SUGAR', 43), ('RICE', 45), ('MILK', 60), ('EGG', 60), 'Amazon', 'Facebook', 'HiSilicon', 'Google', 'Apple', 'Microsoft', 'SenseTime', 'Nvidia', 'OpenAI', 'Nvidia', 'OpenAI')\n"
     ]
    }
   ],
   "source": [
    "merge_tuple = (price_tup + AI_companies_tup)\n",
    "print(merge_tuple)"
   ]
  },
  {
   "cell_type": "markdown",
   "metadata": {},
   "source": [
    "## 5.Compare the length of two tuples."
   ]
  },
  {
   "cell_type": "code",
   "execution_count": 128,
   "metadata": {},
   "outputs": [
    {
     "name": "stdout",
     "output_type": "stream",
     "text": [
      "companies tuple is longer\n"
     ]
    }
   ],
   "source": [
    "len_price = len(price_tup)\n",
    "len_compan = len(AI_companies_tup)\n",
    "\n",
    "if len_price > len_compan:\n",
    "    print(\"price tuple is longer\")\n",
    "elif len_price < len_compan:\n",
    "    print(\"companies tuple is longer\")\n",
    "else:\n",
    "    print(\"both the tuples are of equal length\")"
   ]
  }
 ],
 "metadata": {
  "kernelspec": {
   "display_name": "Python 3",
   "language": "python",
   "name": "python3"
  },
  "language_info": {
   "codemirror_mode": {
    "name": "ipython",
    "version": 3
   },
   "file_extension": ".py",
   "mimetype": "text/x-python",
   "name": "python",
   "nbconvert_exporter": "python",
   "pygments_lexer": "ipython3",
   "version": "3.6.0"
  }
 },
 "nbformat": 4,
 "nbformat_minor": 2
}
